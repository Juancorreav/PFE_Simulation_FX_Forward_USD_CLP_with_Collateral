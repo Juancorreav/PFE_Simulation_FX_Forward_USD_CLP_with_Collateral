{
  "cells": [
    {
      "cell_type": "markdown",
      "id": "22ec14c7",
      "metadata": {
        "id": "22ec14c7"
      },
      "source": [
        "# Simulating Credit Risk in a USD/CLP Forward Contract with Market-Based Collateral (Bonds + Equities)\n"
      ]
    },
    {
      "cell_type": "markdown",
      "id": "dc3023f3",
      "metadata": {
        "id": "dc3023f3"
      },
      "source": [
        "This notebook demonstrates how banks evaluate the credit risk of a foreign exchange (FX) derivative—specifically a USD/CLP forward contract—when the counterparty provides financial assets as collateral. Using Monte Carlo simulation, we estimate the Potential Future Exposure (PFE) of the transaction, both with and without collateral.\n",
        "\n",
        "We simulate thousands of future scenarios for the USD/CLP exchange rate, as well as the market value of the collateral: U.S. Treasury bonds (low volatility) and Apple stock (high volatility). The goal is to measure how effective these assets are in protecting the bank from future credit losses in case the client defaults.\n",
        "\n",
        "The notebook walks through each step in detail:\n",
        "- How the forward contract creates potential exposure for the bank.\n",
        "- How market volatility impacts both the derivative and the collateral.\n",
        "- How net exposure is calculated across thousands of future scenarios.\n",
        "- How collateral transforms a high-risk exposure into a fully protected transaction.\n",
        "\n",
        "This analysis replicates a realistic workflow used in corporate lending and derivative risk management, and is structured to be accessible even to readers without a quantitative finance background.\n"
      ]
    },
    {
      "cell_type": "code",
      "execution_count": 1,
      "id": "03b3682e",
      "metadata": {
        "id": "03b3682e"
      },
      "outputs": [],
      "source": [
        "import numpy as np\n",
        "import matplotlib.pyplot as plt\n",
        "import seaborn as sns\n",
        "sns.set(style='whitegrid')"
      ]
    },
    {
      "cell_type": "markdown",
      "source": [
        "## Define Contract Terms and Simulation Settings\n",
        "\n",
        "Before simulating anything, we need to set up the context of the transaction.\n",
        "\n",
        "Imagine this: A high-net-worth client in Chile wants to **lock in a future USD/CLP exchange rate** because they expect the dollar might go up. The bank enters into a **forward contract** with the client: in 6 months, the client will buy USD at a fixed rate of **900 CLP/USD**.\n",
        "\n",
        "Now, from the bank’s point of view, this is a **credit risk**: if the exchange rate rises significantly, the client would gain (they get to buy cheap dollars), but the **bank would lose**. If the client defaults and can’t pay, the bank is exposed. That's what we want to estimate.\n",
        "\n",
        "So, we define the key variables involved in the simulation:\n",
        "\n",
        "- `notional_usd = 5_000_000` → This is the size of the forward contract. The client will buy **USD 5 million** in 6 months.\n",
        "- `spot_fx = 890` → This is the current market exchange rate: **890 CLP per USD**.\n",
        "- `forward_fx = 900` → This is the rate locked in by the forward contract: the client will get **900 CLP/USD**.\n",
        "- `vol_fx = 0.10` → Estimated **volatility** of the USD/CLP exchange rate: 10% per year.\n",
        "- `rf_usd = 0.03` and `rf_clp = 0.06` → The **risk-free interest rates** in USD and CLP. These influence the expected drift in FX simulation.\n",
        "- `T = 0.5` → The time horizon: **0.5 years = 6 months**, which is when the contract matures.\n",
        "- `n_paths = 10000` → We'll simulate **10,000 possible future exchange rate scenarios** using Monte Carlo simulation. Each one represents a different potential future.\n",
        "- `n_steps = 60` → We'll break the 6 months into 60 smaller steps (like days or weeks) to simulate the FX path more smoothly.\n",
        "- `dt = T / n_steps` → This gives the length of each small step (in years).\n",
        "- `np.random.seed(42)` → This is just to make sure we get the same results every time we run the simulation. It makes the randomness **reproducible**.\n",
        "\n",
        "Why do we need all this? Because we're going to simulate the exchange rate path using a model called **Geometric Brownian Motion (GBM)**. This model uses the volatility, interest rate differential, and time horizon to generate **realistic future price paths**. Once we have the FX rate in 6 months, we can calculate how much the bank could lose.\n",
        "\n",
        "In short: this cell sets the foundation for everything. It tells the simulation engine: “Here's the contract, here's the market, now give me thousands of possible future outcomes.”\n"
      ],
      "metadata": {
        "id": "wqbr_mtT3O4T"
      },
      "id": "wqbr_mtT3O4T"
    },
    {
      "cell_type": "code",
      "execution_count": 2,
      "id": "b88d497d",
      "metadata": {
        "id": "b88d497d"
      },
      "outputs": [],
      "source": [
        "notional_usd = 5_000_000\n",
        "spot_fx = 890\n",
        "forward_fx = 900\n",
        "vol_fx = 0.10\n",
        "rf_usd = 0.03\n",
        "rf_clp = 0.06\n",
        "T = 0.5\n",
        "n_paths = 10000\n",
        "n_steps = 60\n",
        "dt = T / n_steps\n",
        "np.random.seed(42)"
      ]
    },
    {
      "cell_type": "markdown",
      "source": [
        "## Simulate Future FX Rate Paths (USD/CLP)\n",
        "\n",
        "Now that we have defined the contract and market parameters, the next step is to **simulate how the USD/CLP exchange rate could evolve** over the next 6 months.\n",
        "\n",
        "In simple words:  \n",
        " We create **10,000 possible futures** for the FX rate, one for each scenario.\n",
        "\n",
        "### How do we simulate it?\n",
        "\n",
        "We use a method called **Geometric Brownian Motion (GBM)**, which is widely used in finance because:\n",
        "- It models prices that can **grow exponentially** over time.\n",
        "- It **includes randomness** to simulate the uncertainty of real markets.\n",
        "- It prevents negative prices (very important for FX rates).\n",
        "\n",
        "### What happens in this code?\n",
        "\n",
        "- `fx_paths = np.zeros((n_paths, n_steps + 1))`  \n",
        "  → We create a big matrix where each row is a simulation (10,000 rows) and each column is a time step (60 steps).\n",
        "  \n",
        "- `fx_paths[:, 0] = spot_fx`  \n",
        "  → We set the starting point for all simulations to the **current FX rate**: 890 CLP/USD.\n",
        "\n",
        "- `mu_fx = rf_clp - rf_usd`  \n",
        "  → We calculate the expected drift based on **interest rate differential** between CLP and USD.  \n",
        "  (This follows the concept of **Covered Interest Rate Parity**.)\n",
        "\n",
        "- Then we simulate each next step with a loop:\n",
        "  - At every time step `t`:\n",
        "    - `z = np.random.normal(0, 1, n_paths)`  \n",
        "      → We draw 10,000 random numbers from a standard normal distribution to introduce randomness.\n",
        "    - `fx_paths[:, t] = fx_paths[:, t - 1] * exp((mu_fx - 0.5 * vol_fx**2) * dt + vol_fx * sqrt(dt) * z)`  \n",
        "      → This formula updates the FX rate based on:\n",
        "        - Drift (`mu_fx`)\n",
        "        - Volatility (`vol_fx`)\n",
        "        - Random market shocks (`z`)\n",
        "        - Small time step (`dt`)\n",
        "\n",
        "This way, each simulated path is slightly different, and after 6 months, we will have **a full distribution of possible FX rates**.\n",
        "\n",
        "### Why is this important?\n",
        "\n",
        "- The future FX rate will determine **how much the bank could lose or win** under the forward contract.\n",
        "- We will later use these final FX values to **calculate the exposure** in each scenario.\n",
        "- This creates the **risk distribution** we need to calculate the Potential Future Exposure (PFE).\n",
        "\n",
        "In short: this cell generates 10,000 different USD/CLP futures so we can see **what could happen to the bank's risk** under many different market conditions.\n"
      ],
      "metadata": {
        "id": "lXUUeaCV3dFe"
      },
      "id": "lXUUeaCV3dFe"
    },
    {
      "cell_type": "code",
      "execution_count": 3,
      "id": "ee12a058",
      "metadata": {
        "id": "ee12a058"
      },
      "outputs": [],
      "source": [
        "fx_paths = np.zeros((n_paths, n_steps + 1))\n",
        "fx_paths[:, 0] = spot_fx\n",
        "mu_fx = rf_clp - rf_usd\n",
        "for t in range(1, n_steps + 1):\n",
        "    z = np.random.normal(0, 1, n_paths)\n",
        "    fx_paths[:, t] = fx_paths[:, t - 1] * np.exp((mu_fx - 0.5 * vol_fx**2) * dt + vol_fx * np.sqrt(dt) * z)"
      ]
    },
    {
      "cell_type": "code",
      "execution_count": 4,
      "id": "ddd4d9d6",
      "metadata": {
        "id": "ddd4d9d6"
      },
      "outputs": [],
      "source": [
        "# Collateral: Bonds and Apple stock\n",
        "precio_bonos_inicial = 100\n",
        "unidades_bonos = 50_000\n",
        "vol_bonos = 0.03\n",
        "bonos = np.zeros((n_paths, n_steps + 1))\n",
        "bonos[:, 0] = precio_bonos_inicial\n",
        "precio_accion_inicial = 200\n",
        "unidades_accion = 25_000\n",
        "vol_accion = 0.25\n",
        "acciones = np.zeros((n_paths, n_steps + 1))\n",
        "acciones[:, 0] = precio_accion_inicial\n",
        "for t in range(1, n_steps + 1):\n",
        "    z_bonos = np.random.normal(0, 1, n_paths)\n",
        "    z_accion = np.random.normal(0, 1, n_paths)\n",
        "    bonos[:, t] = bonos[:, t - 1] * np.exp(-0.5 * vol_bonos**2 * dt + vol_bonos * np.sqrt(dt) * z_bonos)\n",
        "    acciones[:, t] = acciones[:, t - 1] * np.exp(-0.5 * vol_accion**2 * dt + vol_accion * np.sqrt(dt) * z_accion)"
      ]
    },
    {
      "cell_type": "markdown",
      "source": [
        "## Simulate the Future Value of Collateral (Treasury Bonds and Apple Stock)\n",
        "\n",
        "Now that we have simulated the possible future values of the FX rate, we must do the same for the **collateral** provided by the client.\n",
        "\n",
        "In real life, the value of collateral is not static.  \n",
        "- Bonds fluctuate based on interest rates.\n",
        "- Stocks fluctuate based on company performance and overall market conditions.\n",
        "\n",
        "If the collateral value drops significantly while the exposure increases, the bank could be left unprotected.  \n",
        "Therefore, we simulate how both types of collateral might behave under market uncertainty.\n",
        "\n",
        "### What happens in this code?\n",
        "\n",
        "First, we simulate **Treasury Bonds**:\n",
        "\n",
        "- `precio_bonos_inicial = 100`  \n",
        "  → Initial price of each bond in USD.\n",
        "- `unidades_bonos = 50,000`  \n",
        "  → The client holds 50,000 units, making the bond portfolio worth USD 5 million initially.\n",
        "- `vol_bonos = 0.03`  \n",
        "  → Annualized volatility of the bonds. This is low because US Treasury bonds are relatively stable.\n",
        "- `bonos = np.zeros((n_paths, n_steps + 1))`  \n",
        "  → Creates a matrix to store the price paths of the bonds across all scenarios.\n",
        "- `bonos[:, 0] = precio_bonos_inicial`  \n",
        "  → Set the starting bond price for all scenarios.\n",
        "\n",
        "Then, we simulate **Apple Stock**:\n",
        "\n",
        "- `precio_accion_inicial = 200`  \n",
        "  → Initial price per Apple share in USD.\n",
        "- `unidades_accion = 25,000`  \n",
        "  → The client owns 25,000 shares, also worth USD 5 million initially.\n",
        "- `vol_accion = 0.25`  \n",
        "  → Annualized volatility of the Apple stock. This is much higher because stocks are riskier than bonds.\n",
        "- `acciones = np.zeros((n_paths, n_steps + 1))`  \n",
        "  → Matrix to store the stock price paths.\n",
        "- `acciones[:, 0] = precio_accion_inicial`  \n",
        "  → Set the starting stock price for all simulations.\n",
        "\n",
        "Now, we simulate how both assets evolve over time:\n",
        "\n",
        "- For each time step `t`, we generate random shocks:\n",
        "  - `z_bonos = np.random.normal(0, 1, n_paths)`  \n",
        "    → Random shocks for bonds.\n",
        "  - `z_accion = np.random.normal(0, 1, n_paths)`  \n",
        "    → Random shocks for Apple stock.\n",
        "- We update the price of each asset according to the standard **Geometric Brownian Motion formula**, which includes:\n",
        "  - Drift term (-0.5 × volatility² × dt) to correct for bias.\n",
        "  - Volatility term (volatility × sqrt(dt) × random shock) to introduce uncertainty.\n",
        "\n",
        "Each asset is simulated independently to reflect their unique market behaviors.\n",
        "\n",
        "### Why is this important?\n",
        "\n",
        "Because just like the FX rate is uncertain, the **value of the collateral is also uncertain**.  \n",
        "Some future scenarios might have:\n",
        "- Higher collateral values (good protection for the bank).\n",
        "- Lower collateral values (risk of under-collateralization).\n",
        "\n",
        "By simulating both the FX exposure and the collateral together, we can **realistically measure the net risk** to the bank over time.\n",
        "\n",
        "In short: this cell simulates how much the client's Treasury bonds and Apple stock could be worth at the maturity date, across 10,000 different future scenarios.\n"
      ],
      "metadata": {
        "id": "G5ZC224G3xWB"
      },
      "id": "G5ZC224G3xWB"
    },
    {
      "cell_type": "code",
      "execution_count": 5,
      "id": "38650b0a",
      "metadata": {
        "id": "38650b0a"
      },
      "outputs": [],
      "source": [
        "fx_final = fx_paths[:, -1]\n",
        "valor_forward = (fx_final - forward_fx) * notional_usd\n",
        "exposiciones_positivas = np.maximum(valor_forward, 0)\n",
        "valor_bonos = bonos[:, -1] * unidades_bonos * fx_final\n",
        "valor_acciones = acciones[:, -1] * unidades_accion * fx_final\n",
        "colateral_total = valor_bonos + valor_acciones\n",
        "exposicion_neta = np.maximum(valor_forward - colateral_total, 0)\n",
        "pfe_sin_colateral = np.percentile(exposiciones_positivas, 95)\n",
        "pfe_con_colateral = np.percentile(exposicion_neta, 95)"
      ]
    },
    {
      "cell_type": "code",
      "execution_count": 9,
      "id": "c78d8501",
      "metadata": {
        "colab": {
          "base_uri": "https://localhost:8080/"
        },
        "id": "c78d8501",
        "outputId": "8c6d3e31-c35e-42e1-8b62-f4579f6d82b0"
      },
      "outputs": [
        {
          "output_type": "stream",
          "name": "stdout",
          "text": [
            " PFE without collateral:     558,498,277 CLP\n",
            " PFE with full collateral:   0 CLP\n"
          ]
        }
      ],
      "source": [
        "print(f' PFE without collateral:     {pfe_sin_colateral:,.0f} CLP')\n",
        "print(f' PFE with full collateral:   {pfe_con_colateral:,.0f} CLP')"
      ]
    },
    {
      "cell_type": "markdown",
      "source": [
        "## What Do These PFE Results Tell Us?\n",
        "\n",
        "The two results we just calculated represent two very different risk profiles for the bank:\n",
        "\n",
        "- **PFE without collateral: 558,498,277 CLP**  \n",
        "  This means that, based on our simulation, in the worst 5% of the scenarios, the bank could lose up to **558 million Chilean pesos** if the client defaults and no collateral is available.  \n",
        "  In other words, the exposure is high and the bank would be taking a significant risk if it approved the forward contract without any guarantee.\n",
        "\n",
        "- **PFE with full collateral: 0 CLP**  \n",
        "  After factoring in the future simulated value of the collateral (Treasury bonds + Apple stock), the worst-case net exposure drops to **zero**.  \n",
        "  This means that in all scenarios, even in the most adverse ones, the collateral value is sufficient to fully cover the potential loss of the bank.\n",
        "\n",
        "### Why is this important?\n",
        "\n",
        "- Without collateral, the bank faces real credit risk.\n",
        "- With the given collateral, the risk is neutralized.\n",
        "- The client’s portfolio of assets, even under simulated adverse conditions, remains strong enough to fully protect the bank’s position.\n",
        "\n",
        "This result strongly supports approving the transaction from a credit risk perspective.\n",
        "\n",
        "### Key Takeaways:\n",
        "\n",
        "- The PFE gives us a quantitative way to measure credit exposure under uncertainty.\n",
        "- Good quality and diversified collateral significantly reduce (or eliminate) potential losses.\n",
        "- Monte Carlo simulations allow us to test how resilient the collateral would be across thousands of different market scenarios.\n",
        "\n"
      ],
      "metadata": {
        "id": "3UBkJ-ce4F4e"
      },
      "id": "3UBkJ-ce4F4e"
    },
    {
      "cell_type": "code",
      "execution_count": 10,
      "id": "64616a9a",
      "metadata": {
        "colab": {
          "base_uri": "https://localhost:8080/",
          "height": 601
        },
        "id": "64616a9a",
        "outputId": "41cd65a7-4070-4250-9364-a5442bca5e12"
      },
      "outputs": [
        {
          "output_type": "display_data",
          "data": {
            "text/plain": [
              "<Figure size 1200x600 with 1 Axes>"
            ],
            "image/png": "[encoded data removed]"
          },
          "metadata": {}
        }
      ],
      "source": [
        "plt.figure(figsize=(12,6))\n",
        "\n",
        "sns.histplot(exposiciones_positivas, bins=50, label='No collateral', color='red', alpha=0.5)\n",
        "sns.histplot(exposicion_neta, bins=50, label='With collateral', color='green', alpha=0.6)\n",
        "\n",
        "plt.axvline(pfe_sin_colateral, color='red', linestyle='--', label=f'PFE no collateral: {pfe_sin_colateral:,.0f} CLP')\n",
        "plt.axvline(pfe_con_colateral, color='green', linestyle='--', label=f'PFE with collateral: {pfe_con_colateral:,.0f} CLP')\n",
        "\n",
        "plt.annotate(\"All exposure eliminated\\nthanks to collateral\",\n",
        "             xy=(pfe_con_colateral, 1000),\n",
        "             xytext=(pfe_con_colateral + 1e8, 3000),\n",
        "             arrowprops=dict(facecolor='black', arrowstyle='->'),\n",
        "             fontsize=10, color='green')\n",
        "\n",
        "plt.title('Exposure Distribution – FX Forward with vs without Collateral')\n",
        "plt.xlabel('Exposure (CLP)')\n",
        "plt.ylabel('Frequency')\n",
        "plt.legend()\n",
        "plt.grid(True)\n",
        "plt.tight_layout()\n",
        "plt.show()\n"
      ]
    },
    {
      "cell_type": "markdown",
      "source": [
        "## Visual Comparison of Exposure Distributions\n",
        "\n",
        "This chart compares the **distribution of future exposures** the bank could face under two scenarios:\n",
        "\n",
        "- **Without collateral** (red): This shows the full potential losses the bank might suffer from the FX forward if the client defaults and offers no collateral. The exposure can reach over **500 million CLP** in the worst 5% of cases (PFE).\n",
        "\n",
        "- **With collateral** (green): This shows the same 10,000 simulated scenarios, but now subtracting the future value of the client’s collateral (Treasury bonds and Apple stock). As shown, all exposures are completely offset, and the net exposure is reduced to **zero** in every single case.\n",
        "\n",
        "### Key Observations:\n",
        "- The **red distribution** has a long tail, meaning that there are many adverse scenarios where the bank could lose large sums.\n",
        "- The **green distribution is compressed at zero**, meaning that the collateral covers all possible losses—even in the worst-case simulations.\n",
        "- The **dashed lines** represent the 95th percentile (PFE) in each case:\n",
        "  - Without collateral: ~558 million CLP\n",
        "  - With collateral: 0 CLP\n",
        "\n",
        "### Why this matters:\n",
        "This chart clearly shows the **impact of good-quality collateral** on risk. The same forward contract becomes significantly safer for the bank when it’s backed by liquid and stable assets. This type of visual evidence is commonly used by credit officers and risk managers to support lending decisions.\n",
        "\n",
        "In summary, the collateral transforms a high-risk transaction into a fully protected one.\n"
      ],
      "metadata": {
        "id": "c7FauBBr5Fc_"
      },
      "id": "c7FauBBr5Fc_"
    },
    {
      "cell_type": "code",
      "execution_count": 11,
      "id": "f23c88f3",
      "metadata": {
        "colab": {
          "base_uri": "https://localhost:8080/"
        },
        "id": "f23c88f3",
        "outputId": "8c9d28b9-af75-403b-b6cb-0a551355d286"
      },
      "outputs": [
        {
          "output_type": "stream",
          "name": "stdout",
          "text": [
            " Worst collateral value: 6,049,949,623 CLP\n",
            " Exposure in that scenario: -725,792,127 CLP\n",
            " Net exposure: 0 CLP\n"
          ]
        }
      ],
      "source": [
        "min_valor_colateral = np.min(colateral_total)\n",
        "worst_idx = np.argmin(colateral_total)\n",
        "print(f' Worst collateral value: {min_valor_colateral:,.0f} CLP')\n",
        "print(f' Exposure in that scenario: {valor_forward[worst_idx]:,.0f} CLP')\n",
        "print(f' Net exposure: {exposicion_neta[worst_idx]:,.0f} CLP')"
      ]
    },
    {
      "cell_type": "markdown",
      "source": [
        "## Worst-Case Collateral Scenario\n",
        "\n",
        "In our 10,000 simulations, this was the **worst case** in terms of collateral value.\n",
        "\n",
        "- The total value of the client's collateral (bonds + Apple stock) dropped to about **6.05 billion CLP**.\n",
        "- In that same scenario, the FX forward **was favorable to the bank** (negative exposure), meaning the client would actually owe less.\n",
        "- As a result, the **net exposure for the bank remained at 0 CLP**.\n",
        "\n",
        "### What does this mean?\n",
        "\n",
        "Even in the most extreme simulation—where the client's assets dropped significantly—the bank was still protected.  \n",
        "Why? Because the FX market didn't move against the bank in that case. The contract ended up **not generating a loss**, so **no collateral was needed**.\n",
        "\n",
        "This confirms that the transaction is safe not just in typical scenarios, but also in very adverse market conditions.\n"
      ],
      "metadata": {
        "id": "ADSShKQA5Udq"
      },
      "id": "ADSShKQA5Udq"
    }
  ],
  "metadata": {
    "colab": {
      "provenance": []
    },
    "language_info": {
      "name": "python"
    },
    "kernelspec": {
      "name": "python3",
      "display_name": "Python 3"
    }
  },
  "nbformat": 4,
  "nbformat_minor": 5
}